{
 "cells": [
  {
   "cell_type": "code",
   "execution_count": 1,
   "metadata": {},
   "outputs": [],
   "source": [
    "import os\n",
    "import seaborn as sns\n",
    "import pandas as pd\n",
    "import numpy as np\n",
    "import matplotlib.pyplot as plt\n",
    "\n",
    "from pyspark import SparkContext, SparkConf\n",
    "from pyspark.sql import SparkSession,SQLContext, Row\n",
    "import pyspark.sql.functions as F\n",
    "\n",
    "from pyspark.ml.feature import StringIndexer, VectorAssembler\n",
    "from pyspark.sql.functions import col, log, isnan, count\n",
    "from pyspark.ml.feature import Imputer\n",
    "from pyspark.ml.classification import RandomForestClassifier\n",
    "from pyspark.ml.evaluation import MulticlassClassificationEvaluator\n",
    "from pyspark.ml import Pipeline"
   ]
  },
  {
   "cell_type": "code",
   "execution_count": 2,
   "metadata": {},
   "outputs": [],
   "source": [
    "# Importing and configuration of Spark Session\n",
    "from pyspark.sql import SparkSession\n",
    "spark = SparkSession.builder.appName(\"Capstone_project\").config(\"hive.metastore.uris\",\"thrift://ip-10-1-2-24.ap-south-1.compute.internal:9083\").enableHiveSupport().getOrCreate()"
   ]
  },
  {
   "cell_type": "code",
   "execution_count": 3,
   "metadata": {},
   "outputs": [
    {
     "data": {
      "text/html": [
       "\n",
       "            <div>\n",
       "                <p><b>SparkSession - hive</b></p>\n",
       "                \n",
       "        <div>\n",
       "            <p><b>SparkContext</b></p>\n",
       "\n",
       "            <p><a href=\"http://ip-10-1-1-204.ap-south-1.compute.internal:43006\">Spark UI</a></p>\n",
       "\n",
       "            <dl>\n",
       "              <dt>Version</dt>\n",
       "                <dd><code>v2.4.0</code></dd>\n",
       "              <dt>Master</dt>\n",
       "                <dd><code>local[*]</code></dd>\n",
       "              <dt>AppName</dt>\n",
       "                <dd><code>Capstone_project</code></dd>\n",
       "            </dl>\n",
       "        </div>\n",
       "        \n",
       "            </div>\n",
       "        "
      ],
      "text/plain": [
       "<pyspark.sql.session.SparkSession at 0x7fa922457610>"
      ]
     },
     "execution_count": 3,
     "metadata": {},
     "output_type": "execute_result"
    }
   ],
   "source": [
    "spark"
   ]
  },
  {
   "cell_type": "code",
   "execution_count": 4,
   "metadata": {},
   "outputs": [
    {
     "name": "stdout",
     "output_type": "stream",
     "text": [
      "+------------+\n",
      "|databaseName|\n",
      "+------------+\n",
      "|   01may2022|\n",
      "|   09may2022|\n",
      "|     09may22|\n",
      "|   10nov2011|\n",
      "|   12oct2022|\n",
      "+------------+\n",
      "only showing top 5 rows\n",
      "\n"
     ]
    }
   ],
   "source": [
    "spark.sql('show databases').show(5)"
   ]
  },
  {
   "cell_type": "code",
   "execution_count": 5,
   "metadata": {},
   "outputs": [
    {
     "name": "stdout",
     "output_type": "stream",
     "text": [
      "++\n",
      "||\n",
      "++\n",
      "++\n",
      "\n"
     ]
    }
   ],
   "source": [
    "spark.sql('use exl_project_level_1').show()"
   ]
  },
  {
   "cell_type": "code",
   "execution_count": 6,
   "metadata": {},
   "outputs": [
    {
     "name": "stdout",
     "output_type": "stream",
     "text": [
      "+-------------------+--------------------+-----------+\n",
      "|           database|           tableName|isTemporary|\n",
      "+-------------------+--------------------+-----------+\n",
      "|exl_project_level_1|department_employees|      false|\n",
      "|exl_project_level_1|  department_manager|      false|\n",
      "|exl_project_level_1|         departments|      false|\n",
      "|exl_project_level_1|           employees|      false|\n",
      "|exl_project_level_1|            salaries|      false|\n",
      "|exl_project_level_1|              titles|      false|\n",
      "+-------------------+--------------------+-----------+\n",
      "\n"
     ]
    }
   ],
   "source": [
    "spark.sql('show tables').show()"
   ]
  },
  {
   "cell_type": "markdown",
   "metadata": {},
   "source": [
    "## 1.(A) List the following details of each employee: employee number, last name, first name, sex, and salary."
   ]
  },
  {
   "cell_type": "code",
   "execution_count": 7,
   "metadata": {},
   "outputs": [
    {
     "name": "stdout",
     "output_type": "stream",
     "text": [
      "+------+---------+----------+---+------+\n",
      "|emp_no|last_name|first_name|sex|salary|\n",
      "+------+---------+----------+---+------+\n",
      "|10001 |Facello  |Georgi    |M  |60117 |\n",
      "|10002 |Simmel   |Bezalel   |F  |65828 |\n",
      "|10003 |Bamford  |Parto     |M  |40006 |\n",
      "|10004 |Koblick  |Chirstian |M  |40054 |\n",
      "|10005 |Maliniak |Kyoichi   |M  |78228 |\n",
      "+------+---------+----------+---+------+\n",
      "only showing top 5 rows\n",
      "\n"
     ]
    }
   ],
   "source": [
    "spark.sql(\"\"\"SELECT employees.emp_no, employees.last_name, employees.first_name, employees.sex, salaries.salary\n",
    "FROM employees\n",
    "JOIN salaries\n",
    "ON employees.emp_no = salaries.emp_no\"\"\").show(5,truncate=False)"
   ]
  },
  {
   "cell_type": "markdown",
   "metadata": {},
   "source": [
    "## 1.(B) List first name, last name, and hire date for employees who were hired in 1986."
   ]
  },
  {
   "cell_type": "code",
   "execution_count": 8,
   "metadata": {},
   "outputs": [
    {
     "name": "stdout",
     "output_type": "stream",
     "text": [
      "+----------+---------+---------+\n",
      "|first_name|last_name|hire_date|\n",
      "+----------+---------+---------+\n",
      "|Shawna    |Reinhart |1/1/1986 |\n",
      "|Alejandra |Luce     |1/1/1986 |\n",
      "|Hercules  |Veevers  |1/1/1986 |\n",
      "|Nathalie  |Speer    |1/1/1986 |\n",
      "|Moto      |Kenevan  |1/1/1986 |\n",
      "+----------+---------+---------+\n",
      "only showing top 5 rows\n",
      "\n"
     ]
    }
   ],
   "source": [
    "spark.sql(\"\"\"SELECT first_name, last_name, hire_date \n",
    "FROM employees\n",
    "WHERE hire_date BETWEEN '1/1/1986' AND '12/31/1986'\n",
    "ORDER BY hire_date\"\"\").show(5,truncate=False)"
   ]
  },
  {
   "cell_type": "markdown",
   "metadata": {},
   "source": [
    "## 2. List the manager of each department with the following information: department number, department name, the managers employee number, last name, first name. "
   ]
  },
  {
   "cell_type": "code",
   "execution_count": 9,
   "metadata": {},
   "outputs": [
    {
     "name": "stdout",
     "output_type": "stream",
     "text": [
      "+-------+---------------+------+------------+----------+\n",
      "|dept_no|dept_name      |emp_no|last_name   |first_name|\n",
      "+-------+---------------+------+------------+----------+\n",
      "|d001   |Marketing      |110022|Markovitch  |Margareta |\n",
      "|d001   |Marketing      |110039|Minakawa    |Vishwani  |\n",
      "|d002   |Finance        |110085|Alpin       |Ebru      |\n",
      "|d002   |Finance        |110114|Legleitner  |Isamu     |\n",
      "|d003   |Human Resources|110183|Ossenbruggen|Shirish   |\n",
      "+-------+---------------+------+------------+----------+\n",
      "only showing top 5 rows\n",
      "\n"
     ]
    }
   ],
   "source": [
    "spark.sql(\"\"\"SELECT departments.dept_no, departments.dept_name, department_manager.emp_no, employees.last_name, employees.first_name\n",
    "FROM departments\n",
    "JOIN department_manager\n",
    "ON departments.dept_no = department_manager.dept_no\n",
    "JOIN employees\n",
    "ON department_manager.emp_no = employees.emp_no\"\"\").show(5,truncate=False)"
   ]
  },
  {
   "cell_type": "markdown",
   "metadata": {},
   "source": [
    "## 3. List the department of each employee with the following information: employee number, last name, first name, and department name."
   ]
  },
  {
   "cell_type": "code",
   "execution_count": 10,
   "metadata": {},
   "outputs": [
    {
     "name": "stdout",
     "output_type": "stream",
     "text": [
      "+------+---------+----------+---------------+\n",
      "|emp_no|last_name|first_name|dept_name      |\n",
      "+------+---------+----------+---------------+\n",
      "|10001 |Facello  |Georgi    |development    |\n",
      "|10002 |Simmel   |Bezalel   |Sales          |\n",
      "|10003 |Bamford  |Parto     |Production     |\n",
      "|10004 |Koblick  |Chirstian |Production     |\n",
      "|10005 |Maliniak |Kyoichi   |Human Resources|\n",
      "+------+---------+----------+---------------+\n",
      "only showing top 5 rows\n",
      "\n"
     ]
    }
   ],
   "source": [
    "spark.sql(\"\"\"SELECT department_employees.emp_no, employees.last_name, employees.first_name, departments.dept_name\n",
    "FROM department_employees\n",
    "JOIN employees\n",
    "ON department_employees.emp_no = employees.emp_no\n",
    "JOIN departments\n",
    "ON department_employees.dept_no = departments.dept_no\"\"\").show(5,truncate=False)"
   ]
  },
  {
   "cell_type": "markdown",
   "metadata": {},
   "source": [
    "## 4. A list showing first name, last name, and sex for employees whose first name is \"Hercules\" and last names begin with \"B.“"
   ]
  },
  {
   "cell_type": "code",
   "execution_count": 11,
   "metadata": {},
   "outputs": [
    {
     "name": "stdout",
     "output_type": "stream",
     "text": [
      "+----------+-------------+---+\n",
      "|first_name|last_name    |sex|\n",
      "+----------+-------------+---+\n",
      "|Hercules  |Benzmuller   |M  |\n",
      "|Hercules  |Brendel      |F  |\n",
      "|Hercules  |Baranowski   |M  |\n",
      "|Hercules  |Barreiro     |M  |\n",
      "|Hercules  |Baer         |M  |\n",
      "|Hercules  |Bernardinello|F  |\n",
      "|Hercules  |Basagni      |M  |\n",
      "|Hercules  |Biran        |F  |\n",
      "|Hercules  |Bernatsky    |M  |\n",
      "|Hercules  |Bail         |F  |\n",
      "|Hercules  |Birge        |F  |\n",
      "|Hercules  |Bisiani      |F  |\n",
      "|Hercules  |Bodoff       |M  |\n",
      "|Hercules  |Biron        |F  |\n",
      "|Hercules  |Buchter      |M  |\n",
      "|Hercules  |Bain         |F  |\n",
      "|Hercules  |Bahr         |M  |\n",
      "|Hercules  |Baak         |M  |\n",
      "|Hercules  |Benantar     |F  |\n",
      "|Hercules  |Berstel      |F  |\n",
      "+----------+-------------+---+\n",
      "\n"
     ]
    }
   ],
   "source": [
    "spark.sql(\"\"\"SELECT employees.first_name, employees.last_name, employees.sex\n",
    "FROM employees\n",
    "WHERE first_name = 'Hercules'\n",
    "AND last_name Like 'B%'\"\"\").show(truncate=False)"
   ]
  },
  {
   "cell_type": "markdown",
   "metadata": {},
   "source": [
    "## 5. A list showing all employees in the Sales department, including their employee number, last name, first name, and department name."
   ]
  },
  {
   "cell_type": "code",
   "execution_count": 12,
   "metadata": {},
   "outputs": [
    {
     "name": "stdout",
     "output_type": "stream",
     "text": [
      "+------+---------+-----------+----------+\n",
      "|emp_no|dept_name|last_name  |first_name|\n",
      "+------+---------+-----------+----------+\n",
      "|10002 |Sales    |Simmel     |Bezalel   |\n",
      "|10016 |Sales    |Cappelletti|Kazuhito  |\n",
      "|10034 |Sales    |Swan       |Bader     |\n",
      "|10041 |Sales    |Lenart     |Uri       |\n",
      "|10050 |Sales    |Dredge     |Yinghua   |\n",
      "+------+---------+-----------+----------+\n",
      "only showing top 5 rows\n",
      "\n"
     ]
    }
   ],
   "source": [
    "spark.sql(\"\"\"SELECT department_employees.emp_no, departments.dept_name, employees.last_name, employees.first_name\n",
    "FROM department_employees\n",
    "JOIN employees\n",
    "ON department_employees.emp_no = employees.emp_no\n",
    "JOIN departments\n",
    "ON department_employees.dept_no = departments.dept_no\n",
    "WHERE departments.dept_name = 'Sales'\"\"\").show(5,truncate=False)"
   ]
  },
  {
   "cell_type": "markdown",
   "metadata": {},
   "source": [
    "## 6. A list showing all employees in the Sales and Development departments, including their employee number, last name, first name, and department name."
   ]
  },
  {
   "cell_type": "code",
   "execution_count": 13,
   "metadata": {},
   "outputs": [
    {
     "name": "stdout",
     "output_type": "stream",
     "text": [
      "+------+-----------+----------+---------+\n",
      "|emp_no|last_name  |first_name|dept_name|\n",
      "+------+-----------+----------+---------+\n",
      "|10002 |Simmel     |Bezalel   |Sales    |\n",
      "|10016 |Cappelletti|Kazuhito  |Sales    |\n",
      "|10034 |Swan       |Bader     |Sales    |\n",
      "|10041 |Lenart     |Uri       |Sales    |\n",
      "|10050 |Dredge     |Yinghua   |Sales    |\n",
      "+------+-----------+----------+---------+\n",
      "only showing top 5 rows\n",
      "\n"
     ]
    }
   ],
   "source": [
    "spark.sql(\"\"\"SELECT department_employees.emp_no, employees.last_name, employees.first_name, departments.dept_name\n",
    "FROM department_employees\n",
    "JOIN employees\n",
    "ON department_employees.emp_no = employees.emp_no\n",
    "JOIN departments\n",
    "ON department_employees.dept_no = departments.dept_no\n",
    "WHERE departments.dept_name = 'Sales' \n",
    "OR departments.dept_name = 'Development'\"\"\").show(5,truncate=False)"
   ]
  },
  {
   "cell_type": "markdown",
   "metadata": {},
   "source": [
    "## 7. A list showing the frequency count of employee last names, in descending order. ( i.e., how many employees share each last name)."
   ]
  },
  {
   "cell_type": "code",
   "execution_count": 14,
   "metadata": {},
   "outputs": [
    {
     "name": "stdout",
     "output_type": "stream",
     "text": [
      "+---------+---------+\n",
      "|last_name|Frequency|\n",
      "+---------+---------+\n",
      "|Baba     |226      |\n",
      "|Gelosh   |223      |\n",
      "|Coorg    |223      |\n",
      "|Farris   |222      |\n",
      "|Sudbeck  |222      |\n",
      "+---------+---------+\n",
      "only showing top 5 rows\n",
      "\n"
     ]
    }
   ],
   "source": [
    "spark.sql(\"\"\"select last_name,count(last_name) as Frequency \n",
    "from employees \n",
    "group by last_name\n",
    "order by frequency desc\"\"\").show(5,truncate=False)"
   ]
  },
  {
   "cell_type": "markdown",
   "metadata": {},
   "source": [
    "## 8. Histogram to show the salary distribution among the employees"
   ]
  },
  {
   "cell_type": "code",
   "execution_count": 15,
   "metadata": {},
   "outputs": [],
   "source": [
    "df  = spark.sql(\"\"\"select * from salaries\"\"\").toPandas()"
   ]
  },
  {
   "cell_type": "code",
   "execution_count": 16,
   "metadata": {},
   "outputs": [
    {
     "data": {
      "image/png": "[encoded data removed]",
      "text/plain": [
       "<Figure size 792x432 with 1 Axes>"
      ]
     },
     "metadata": {
      "needs_background": "light"
     },
     "output_type": "display_data"
    }
   ],
   "source": [
    "import matplotlib.pyplot as plt\n",
    "plt.figure(figsize=(11,6))\n",
    "plt.hist(df['salary'],bins=9,color='orange',alpha=1,edgecolor='black')\n",
    "plt.xlabel('Salaries',fontsize=16,color='black',labelpad=20)\n",
    "plt.ylabel('Frequency Count',fontsize=16,color='black',labelpad=20)\n",
    "plt.show()"
   ]
  },
  {
   "cell_type": "markdown",
   "metadata": {},
   "source": [
    "## 9. Bar graph to show the Average salary per title (designation)"
   ]
  },
  {
   "cell_type": "code",
   "execution_count": 17,
   "metadata": {},
   "outputs": [],
   "source": [
    "df = spark.sql(\"\"\"select title,round(avg(salary),0) as Avg_salary from titles join employees on titles.title_id = employees.emp_titles_id \n",
    "                  join salaries on employees.emp_no = salaries.emp_no group by title\"\"\").toPandas()"
   ]
  },
  {
   "cell_type": "code",
   "execution_count": 18,
   "metadata": {},
   "outputs": [
    {
     "data": {
      "image/png": "[encoded data removed]",
      "text/plain": [
       "<Figure size 792x432 with 1 Axes>"
      ]
     },
     "metadata": {
      "needs_background": "light"
     },
     "output_type": "display_data"
    }
   ],
   "source": [
    "import seaborn as sns\n",
    "plt.figure(figsize=(11,6))\n",
    "sns.barplot(df['title'],df['Avg_salary'],alpha=1,edgecolor='black')\n",
    "plt.xlabel('title',fontsize=16,color='black',labelpad=20)\n",
    "plt.ylabel('Avg_salary',fontsize=16,color='black',labelpad=20)\n",
    "plt.show()"
   ]
  },
  {
   "cell_type": "markdown",
   "metadata": {},
   "source": [
    "## 10. Calculate employee tenure & show the tenure distribution among the employees."
   ]
  },
  {
   "cell_type": "code",
   "execution_count": 19,
   "metadata": {},
   "outputs": [],
   "source": [
    "import pandas as pd\n",
    "import datetime as dt\n",
    "df = spark.sql(\"select hire_date,replace(last_date,'\\r','') as last_date from employees\").toPandas()\n",
    "df = pd.to_datetime(df['last_date'].replace(\"\",max(df['hire_date']))) - pd.to_datetime(df['hire_date'])\n",
    "df = df.value_counts()"
   ]
  },
  {
   "cell_type": "code",
   "execution_count": 20,
   "metadata": {},
   "outputs": [
    {
     "data": {
      "image/png": "[encoded data removed]",
      "text/plain": [
       "<Figure size 792x432 with 1 Axes>"
      ]
     },
     "metadata": {
      "needs_background": "light"
     },
     "output_type": "display_data"
    }
   ],
   "source": [
    "plt.figure(figsize=(11,6))\n",
    "plt.hist(df,color='springgreen',alpha=1,edgecolor='black')\n",
    "plt.xlabel('Number of Employee',fontsize=16,color='black',labelpad=20)\n",
    "plt.ylabel('Count of Tenure',fontsize=16,color='black',labelpad=20)\n",
    "plt.show()"
   ]
  },
  {
   "cell_type": "markdown",
   "metadata": {},
   "source": [
    "# Additional Analysis"
   ]
  },
  {
   "cell_type": "markdown",
   "metadata": {},
   "source": [
    "## 11. A list showing count of employees by titles."
   ]
  },
  {
   "cell_type": "code",
   "execution_count": 21,
   "metadata": {},
   "outputs": [
    {
     "name": "stdout",
     "output_type": "stream",
     "text": [
      "+--------+------------------+-------------------+\n",
      "|title_id|             title|Number_of_employees|\n",
      "+--------+------------------+-------------------+\n",
      "|   s0001|             Staff|             107384|\n",
      "|   e0003|   Senior Engineer|              97747|\n",
      "|   e0002|          Engineer|              47303|\n",
      "|   s0002|      Senior Staff|              26583|\n",
      "|   e0004|  Technique Leader|              15148|\n",
      "|   e0001|Assistant Engineer|               5835|\n",
      "|   m0001|           Manager|                 24|\n",
      "+--------+------------------+-------------------+\n",
      "\n"
     ]
    }
   ],
   "source": [
    "spark.sql(\"\"\"select title_id,title,count(1) as Number_of_employees from employees join titles on employees.emp_titles_id = titles.title_id group by title_id, title order by Number_of_employees desc\"\"\").show()"
   ]
  },
  {
   "cell_type": "markdown",
   "metadata": {},
   "source": [
    "## 12. Number of Male and Female Managers."
   ]
  },
  {
   "cell_type": "code",
   "execution_count": 22,
   "metadata": {},
   "outputs": [
    {
     "name": "stdout",
     "output_type": "stream",
     "text": [
      "+---+------------------+\n",
      "|sex|Number_of_managers|\n",
      "+---+------------------+\n",
      "|  F|                13|\n",
      "|  M|                11|\n",
      "+---+------------------+\n",
      "\n"
     ]
    }
   ],
   "source": [
    "spark.sql(\"select employees.sex, count(department_manager.emp_no) as Number_of_managers from employees join department_manager on employees.emp_no = department_manager.emp_no group by employees.sex \").show()"
   ]
  },
  {
   "cell_type": "code",
   "execution_count": 23,
   "metadata": {},
   "outputs": [
    {
     "data": {
      "image/png": "[encoded data removed]",
      "text/plain": [
       "<Figure size 576x360 with 1 Axes>"
      ]
     },
     "metadata": {
      "needs_background": "light"
     },
     "output_type": "display_data"
    }
   ],
   "source": [
    "df = spark.sql(\"select employees.sex from employees join department_manager on employees.emp_no = department_manager.emp_no  \")\n",
    "df = df.toPandas()\n",
    "df = df.sex.value_counts()\n",
    "plt.figure(figsize=(8,5))\n",
    "df.plot(kind='bar',color='springgreen')\n",
    "plt.show()"
   ]
  },
  {
   "cell_type": "markdown",
   "metadata": {},
   "source": [
    "## 13. Names of all the Managers in the company."
   ]
  },
  {
   "cell_type": "code",
   "execution_count": 24,
   "metadata": {},
   "outputs": [
    {
     "name": "stdout",
     "output_type": "stream",
     "text": [
      "+--------------------+\n",
      "|       Managers_name|\n",
      "+--------------------+\n",
      "|Margareta Markovitch|\n",
      "|   Vishwani Minakawa|\n",
      "|          Ebru Alpin|\n",
      "|    Isamu Legleitner|\n",
      "|Shirish Ossenbruggen|\n",
      "|     Karsten Sigstam|\n",
      "|   Krassimir Wegerle|\n",
      "|        Rosine Cools|\n",
      "|         Shem Kieras|\n",
      "|      Oscar Ghazalie|\n",
      "|   DeForest Hagimont|\n",
      "|       Leon DasSarma|\n",
      "|   Peternela Onuegbe|\n",
      "|      Rutger Hofmeyr|\n",
      "|      Sanjoy Quadeer|\n",
      "|          Dung Pesch|\n",
      "|Przemyslawa Kaelb...|\n",
      "|         Hauke Zhang|\n",
      "|        Arie Staelin|\n",
      "|       Hilary Kambil|\n",
      "|   Tonny Butterworth|\n",
      "|    Marjo Giarratana|\n",
      "|    Xiaobin Spinelli|\n",
      "|     Yuchang Weedman|\n",
      "+--------------------+\n",
      "\n"
     ]
    }
   ],
   "source": [
    "spark.sql(\"select concat(first_name, ' ', last_name) as Managers_name from employees join department_manager on employees.emp_no = department_manager.emp_no  \").show(50)"
   ]
  },
  {
   "cell_type": "markdown",
   "metadata": {},
   "source": [
    "## 14. Employees who are registered in more than one department."
   ]
  },
  {
   "cell_type": "code",
   "execution_count": 25,
   "metadata": {},
   "outputs": [
    {
     "name": "stdout",
     "output_type": "stream",
     "text": [
      "There are 31579 who are registered in more than one department.\n"
     ]
    }
   ],
   "source": [
    "df = spark.sql(\"select emp_no, count(emp_no) as frequency from department_employees group by emp_no having count(emp_no) > 1 order by frequency desc\")\n",
    "print(f\"There are {df.count()} who are registered in more than one department.\")"
   ]
  },
  {
   "cell_type": "markdown",
   "metadata": {},
   "source": [
    "## 15. Average Salary of Male and Female Managers."
   ]
  },
  {
   "cell_type": "code",
   "execution_count": 26,
   "metadata": {},
   "outputs": [
    {
     "name": "stdout",
     "output_type": "stream",
     "text": [
      "+---+--------------------------------------+\n",
      "|sex|Average_salary_of_managers_gender_wise|\n",
      "+---+--------------------------------------+\n",
      "|  F|                               46662.0|\n",
      "|  M|                               57285.0|\n",
      "+---+--------------------------------------+\n",
      "\n"
     ]
    }
   ],
   "source": [
    "spark.sql(\"\"\"select employees.sex, round(avg(salaries.salary),0) Average_salary_of_managers_gender_wise from employees \n",
    "          join department_manager on employees.emp_no = department_manager.emp_no \n",
    "          join salaries on employees.emp_no = salaries.emp_no group by employees.sex\"\"\").show()"
   ]
  },
  {
   "cell_type": "markdown",
   "metadata": {},
   "source": [
    "## 16. Average salary of Managers Departments wise."
   ]
  },
  {
   "cell_type": "code",
   "execution_count": 27,
   "metadata": {},
   "outputs": [
    {
     "name": "stdout",
     "output_type": "stream",
     "text": [
      "+------------------+----------------------------------+--------------------------+\n",
      "|         dept_name|Number_of_Managers_department_wise|Average_salary_of_managers|\n",
      "+------------------+----------------------------------+--------------------------+\n",
      "|             Sales|                                 2|                   71380.0|\n",
      "|Quality Management|                                 4|                   49260.0|\n",
      "|           Finance|                                 2|                   56048.0|\n",
      "|        Production|                                 4|                   43115.0|\n",
      "|          Research|                                 2|                   60262.0|\n",
      "|  Customer Service|                                 4|                   43462.0|\n",
      "|         Marketing|                                 2|                   70554.0|\n",
      "|       development|                                 2|                   44313.0|\n",
      "|   Human Resources|                                 2|                   44146.0|\n",
      "+------------------+----------------------------------+--------------------------+\n",
      "\n"
     ]
    }
   ],
   "source": [
    "spark.sql(\"\"\"select departments.dept_name, count(*) as Number_of_Managers_department_wise, round(avg(salaries.salary),0) Average_salary_of_managers from employees \n",
    "          join department_manager on employees.emp_no = department_manager.emp_no \n",
    "          join salaries on employees.emp_no = salaries.emp_no\n",
    "          join departments on department_manager.dept_no = departments.dept_no\n",
    "          group by departments.dept_name\"\"\").show()"
   ]
  },
  {
   "cell_type": "markdown",
   "metadata": {},
   "source": [
    "# ML Classification Models"
   ]
  },
  {
   "cell_type": "markdown",
   "metadata": {},
   "source": [
    "# Logistic Regression"
   ]
  },
  {
   "cell_type": "code",
   "execution_count": 28,
   "metadata": {},
   "outputs": [
    {
     "name": "stdout",
     "output_type": "stream",
     "text": [
      "+-------+---+------+--------------+--------+-----------------------+\n",
      "|dept_no|sex|salary|no_of_projects|emp_left|last_performance_rating|\n",
      "+-------+---+------+--------------+--------+-----------------------+\n",
      "|   d005|  F| 40000|             8|       0|                      A|\n",
      "|   d003|  M| 40000|             9|       0|                      B|\n",
      "|   d008|  F| 60268|             2|       0|                      A|\n",
      "|   d005|  F| 60268|             2|       0|                      A|\n",
      "|   d009|  F| 54602|             6|       0|                      C|\n",
      "+-------+---+------+--------------+--------+-----------------------+\n",
      "only showing top 5 rows\n",
      "\n"
     ]
    }
   ],
   "source": [
    "employees = spark.sql(\"select * from employees\")\n",
    "titles = spark.sql(\"select * from titles\")\n",
    "salaries = spark.sql(\"select * from salaries\")\n",
    "department_employees = spark.sql(\"select * from department_employees\")\n",
    "department_manager = spark.sql(\"select * from department_manager\")\n",
    "departments = spark.sql(\"select * from departments\")\n",
    "df = employees.join(titles,employees.emp_titles_id == titles.title_id,\"rightouter\").join(department_employees,employees.emp_no == department_employees.emp_no,\"rightouter\").join(salaries,employees.emp_no == salaries.emp_no,\"rightouter\")\n",
    "df_final = df.select('dept_no','sex','salary','no_of_projects','emp_left','last_performance_rating')\n",
    "df_final.show(5)"
   ]
  },
  {
   "cell_type": "markdown",
   "metadata": {},
   "source": [
    "#### StringIndexer"
   ]
  },
  {
   "cell_type": "code",
   "execution_count": 29,
   "metadata": {},
   "outputs": [],
   "source": [
    "SI_dep_no = StringIndexer(inputCol='dept_no',outputCol='dept_no_index')\n",
    "df_final = SI_dep_no.fit(df_final).transform(df_final)\n",
    "SI_sex = StringIndexer(inputCol='sex',outputCol='sex_index')\n",
    "df_final = SI_sex.fit(df_final).transform(df_final)\n",
    "SI_last_performance_rating = StringIndexer(inputCol='last_performance_rating',outputCol='last_performance_rating_index')\n",
    "df_final = SI_last_performance_rating.fit(df_final).transform(df_final)"
   ]
  },
  {
   "cell_type": "code",
   "execution_count": 30,
   "metadata": {},
   "outputs": [
    {
     "name": "stdout",
     "output_type": "stream",
     "text": [
      "+-------+---+------+--------------+--------+-----------------------+-------------+---------+-----------------------------+\n",
      "|dept_no|sex|salary|no_of_projects|emp_left|last_performance_rating|dept_no_index|sex_index|last_performance_rating_index|\n",
      "+-------+---+------+--------------+--------+-----------------------+-------------+---------+-----------------------------+\n",
      "|   d005|  F| 40000|             8|       0|                      A|          0.0|      1.0|                          1.0|\n",
      "|   d003|  M| 40000|             9|       0|                      B|          7.0|      0.0|                          0.0|\n",
      "|   d008|  F| 60268|             2|       0|                      A|          4.0|      1.0|                          1.0|\n",
      "|   d005|  F| 60268|             2|       0|                      A|          0.0|      1.0|                          1.0|\n",
      "|   d009|  F| 54602|             6|       0|                      C|          3.0|      1.0|                          2.0|\n",
      "|   d007|  F| 54602|             6|       0|                      C|          2.0|      1.0|                          2.0|\n",
      "|   d005|  F| 57239|             4|       0|                      C|          0.0|      1.0|                          2.0|\n",
      "|   d005|  F| 40000|             7|       0|                    PIP|          0.0|      1.0|                          3.0|\n",
      "|   d008|  F| 40000|            10|       0|                      A|          4.0|      1.0|                          1.0|\n",
      "|   d005|  F| 40000|            10|       0|                      A|          0.0|      1.0|                          1.0|\n",
      "|   d008|  F| 43739|             7|       0|                      C|          4.0|      1.0|                          2.0|\n",
      "|   d005|  M| 54491|             4|       1|                      A|          0.0|      0.0|                          1.0|\n",
      "|   d002|  M| 40335|             7|       0|                      A|          8.0|      0.0|                          1.0|\n",
      "|   d008|  M| 45038|             2|       0|                    PIP|          4.0|      0.0|                          3.0|\n",
      "|   d005|  M| 45038|             2|       0|                    PIP|          0.0|      0.0|                          3.0|\n",
      "|   d007|  F| 70172|             2|       0|                      B|          2.0|      1.0|                          0.0|\n",
      "|   d001|  F| 70172|             2|       0|                      B|          5.0|      1.0|                          0.0|\n",
      "|   d003|  F| 42816|            10|       0|                      B|          7.0|      1.0|                          0.0|\n",
      "|   d005|  F| 49760|             7|       0|                      C|          0.0|      1.0|                          2.0|\n",
      "|   d005|  M| 40000|             5|       0|                      B|          0.0|      0.0|                          0.0|\n",
      "+-------+---+------+--------------+--------+-----------------------+-------------+---------+-----------------------------+\n",
      "only showing top 20 rows\n",
      "\n"
     ]
    }
   ],
   "source": [
    "df_final.show()"
   ]
  },
  {
   "cell_type": "markdown",
   "metadata": {},
   "source": [
    "#### Vector Assembler"
   ]
  },
  {
   "cell_type": "code",
   "execution_count": 31,
   "metadata": {},
   "outputs": [],
   "source": [
    "assembler = VectorAssembler(inputCols = [ 'salary', 'no_of_projects','dept_no_index',\n",
    "                                         'sex_index', 'last_performance_rating_index'],outputCol = \"features\")\n",
    "output = assembler.transform(df_final)"
   ]
  },
  {
   "cell_type": "code",
   "execution_count": 32,
   "metadata": {},
   "outputs": [
    {
     "name": "stdout",
     "output_type": "stream",
     "text": [
      "+-------------------------+\n",
      "|features                 |\n",
      "+-------------------------+\n",
      "|[40000.0,8.0,0.0,1.0,1.0]|\n",
      "|[40000.0,9.0,7.0,0.0,0.0]|\n",
      "|[60268.0,2.0,4.0,1.0,1.0]|\n",
      "|[60268.0,2.0,0.0,1.0,1.0]|\n",
      "|[54602.0,6.0,3.0,1.0,2.0]|\n",
      "+-------------------------+\n",
      "only showing top 5 rows\n",
      "\n"
     ]
    }
   ],
   "source": [
    "output.select('features').show(5,truncate=False)"
   ]
  },
  {
   "cell_type": "code",
   "execution_count": 33,
   "metadata": {},
   "outputs": [],
   "source": [
    "final_data = output.select('features','emp_left')"
   ]
  },
  {
   "cell_type": "code",
   "execution_count": 34,
   "metadata": {},
   "outputs": [
    {
     "name": "stdout",
     "output_type": "stream",
     "text": [
      "+-------------------------+--------+\n",
      "|features                 |emp_left|\n",
      "+-------------------------+--------+\n",
      "|[40000.0,8.0,0.0,1.0,1.0]|0       |\n",
      "|[40000.0,9.0,7.0,0.0,0.0]|0       |\n",
      "|[60268.0,2.0,4.0,1.0,1.0]|0       |\n",
      "|[60268.0,2.0,0.0,1.0,1.0]|0       |\n",
      "|[54602.0,6.0,3.0,1.0,2.0]|0       |\n",
      "+-------------------------+--------+\n",
      "only showing top 5 rows\n",
      "\n"
     ]
    }
   ],
   "source": [
    "final_data.show(5,truncate=False)"
   ]
  },
  {
   "cell_type": "markdown",
   "metadata": {},
   "source": [
    "### Label Indexer"
   ]
  },
  {
   "cell_type": "code",
   "execution_count": 35,
   "metadata": {},
   "outputs": [],
   "source": [
    "from pyspark.sql.functions import col,isnan, when, count\n",
    "final_data = final_data.withColumn('label',when(final_data.emp_left == '1',1).otherwise(0))"
   ]
  },
  {
   "cell_type": "code",
   "execution_count": 36,
   "metadata": {},
   "outputs": [],
   "source": [
    "#Build the Linear Regression Model\n",
    "from pyspark.ml.classification import LogisticRegression "
   ]
  },
  {
   "cell_type": "code",
   "execution_count": 37,
   "metadata": {},
   "outputs": [],
   "source": [
    "#train test split\n",
    "train_df,test_df = final_data.randomSplit( [0.7, 0.3], seed = 50 )"
   ]
  },
  {
   "cell_type": "code",
   "execution_count": 38,
   "metadata": {},
   "outputs": [],
   "source": [
    "logrg = LogisticRegression(featuresCol= 'features',labelCol='label',maxIter=5)"
   ]
  },
  {
   "cell_type": "code",
   "execution_count": 39,
   "metadata": {},
   "outputs": [],
   "source": [
    "lr = logrg.fit(train_df)"
   ]
  },
  {
   "cell_type": "code",
   "execution_count": 40,
   "metadata": {},
   "outputs": [
    {
     "data": {
      "text/plain": [
       "-2.1515119557376847"
      ]
     },
     "execution_count": 40,
     "metadata": {},
     "output_type": "execute_result"
    }
   ],
   "source": [
    "lr.intercept"
   ]
  },
  {
   "cell_type": "code",
   "execution_count": 41,
   "metadata": {},
   "outputs": [
    {
     "data": {
      "text/plain": [
       "DenseVector([-0.0, 0.0045, -0.0009, -0.0117, 0.0083])"
      ]
     },
     "execution_count": 41,
     "metadata": {},
     "output_type": "execute_result"
    }
   ],
   "source": [
    "lr.coefficients"
   ]
  },
  {
   "cell_type": "code",
   "execution_count": 42,
   "metadata": {},
   "outputs": [],
   "source": [
    "y_pred_test = lr.transform(test_df)"
   ]
  },
  {
   "cell_type": "code",
   "execution_count": 43,
   "metadata": {},
   "outputs": [],
   "source": [
    "y_pred_train = lr.transform(train_df)"
   ]
  },
  {
   "cell_type": "code",
   "execution_count": 44,
   "metadata": {},
   "outputs": [
    {
     "data": {
      "text/html": [
       "<div>\n",
       "<style scoped>\n",
       "    .dataframe tbody tr th:only-of-type {\n",
       "        vertical-align: middle;\n",
       "    }\n",
       "\n",
       "    .dataframe tbody tr th {\n",
       "        vertical-align: top;\n",
       "    }\n",
       "\n",
       "    .dataframe thead th {\n",
       "        text-align: right;\n",
       "    }\n",
       "</style>\n",
       "<table border=\"1\" class=\"dataframe\">\n",
       "  <thead>\n",
       "    <tr style=\"text-align: right;\">\n",
       "      <th></th>\n",
       "      <th>label</th>\n",
       "      <th>rawPrediction</th>\n",
       "      <th>probability</th>\n",
       "      <th>prediction</th>\n",
       "    </tr>\n",
       "  </thead>\n",
       "  <tbody>\n",
       "    <tr>\n",
       "      <th>0</th>\n",
       "      <td>0</td>\n",
       "      <td>[2.202618773815793, -2.202618773815793]</td>\n",
       "      <td>[0.9004844312615607, 0.09951556873843914]</td>\n",
       "      <td>0.0</td>\n",
       "    </tr>\n",
       "    <tr>\n",
       "      <th>1</th>\n",
       "      <td>1</td>\n",
       "      <td>[2.202618773815793, -2.202618773815793]</td>\n",
       "      <td>[0.9004844312615607, 0.09951556873843914]</td>\n",
       "      <td>0.0</td>\n",
       "    </tr>\n",
       "    <tr>\n",
       "      <th>2</th>\n",
       "      <td>0</td>\n",
       "      <td>[2.19816222597093, -2.19816222597093]</td>\n",
       "      <td>[0.9000843567321536, 0.09991564326784638]</td>\n",
       "      <td>0.0</td>\n",
       "    </tr>\n",
       "    <tr>\n",
       "      <th>3</th>\n",
       "      <td>0</td>\n",
       "      <td>[2.19816222597093, -2.19816222597093]</td>\n",
       "      <td>[0.9000843567321536, 0.09991564326784638]</td>\n",
       "      <td>0.0</td>\n",
       "    </tr>\n",
       "    <tr>\n",
       "      <th>4</th>\n",
       "      <td>0</td>\n",
       "      <td>[2.19816222597093, -2.19816222597093]</td>\n",
       "      <td>[0.9000843567321536, 0.09991564326784638]</td>\n",
       "      <td>0.0</td>\n",
       "    </tr>\n",
       "    <tr>\n",
       "      <th>5</th>\n",
       "      <td>1</td>\n",
       "      <td>[2.193705678126067, -2.193705678126067]</td>\n",
       "      <td>[0.8996828529950082, 0.10031714700499186]</td>\n",
       "      <td>0.0</td>\n",
       "    </tr>\n",
       "    <tr>\n",
       "      <th>6</th>\n",
       "      <td>0</td>\n",
       "      <td>[2.1892491302812034, -2.1892491302812034]</td>\n",
       "      <td>[0.899279916386459, 0.10072008361354093]</td>\n",
       "      <td>0.0</td>\n",
       "    </tr>\n",
       "    <tr>\n",
       "      <th>7</th>\n",
       "      <td>0</td>\n",
       "      <td>[2.1847925824363403, -2.1847925824363403]</td>\n",
       "      <td>[0.8988755432452047, 0.10112445675479537]</td>\n",
       "      <td>0.0</td>\n",
       "    </tr>\n",
       "    <tr>\n",
       "      <th>8</th>\n",
       "      <td>0</td>\n",
       "      <td>[2.1847925824363403, -2.1847925824363403]</td>\n",
       "      <td>[0.8988755432452047, 0.10112445675479537]</td>\n",
       "      <td>0.0</td>\n",
       "    </tr>\n",
       "    <tr>\n",
       "      <th>9</th>\n",
       "      <td>0</td>\n",
       "      <td>[2.1847925824363403, -2.1847925824363403]</td>\n",
       "      <td>[0.8988755432452047, 0.10112445675479537]</td>\n",
       "      <td>0.0</td>\n",
       "    </tr>\n",
       "  </tbody>\n",
       "</table>\n",
       "</div>"
      ],
      "text/plain": [
       "   label                              rawPrediction  \\\n",
       "0      0    [2.202618773815793, -2.202618773815793]   \n",
       "1      1    [2.202618773815793, -2.202618773815793]   \n",
       "2      0      [2.19816222597093, -2.19816222597093]   \n",
       "3      0      [2.19816222597093, -2.19816222597093]   \n",
       "4      0      [2.19816222597093, -2.19816222597093]   \n",
       "5      1    [2.193705678126067, -2.193705678126067]   \n",
       "6      0  [2.1892491302812034, -2.1892491302812034]   \n",
       "7      0  [2.1847925824363403, -2.1847925824363403]   \n",
       "8      0  [2.1847925824363403, -2.1847925824363403]   \n",
       "9      0  [2.1847925824363403, -2.1847925824363403]   \n",
       "\n",
       "                                 probability  prediction  \n",
       "0  [0.9004844312615607, 0.09951556873843914]         0.0  \n",
       "1  [0.9004844312615607, 0.09951556873843914]         0.0  \n",
       "2  [0.9000843567321536, 0.09991564326784638]         0.0  \n",
       "3  [0.9000843567321536, 0.09991564326784638]         0.0  \n",
       "4  [0.9000843567321536, 0.09991564326784638]         0.0  \n",
       "5  [0.8996828529950082, 0.10031714700499186]         0.0  \n",
       "6   [0.899279916386459, 0.10072008361354093]         0.0  \n",
       "7  [0.8988755432452047, 0.10112445675479537]         0.0  \n",
       "8  [0.8988755432452047, 0.10112445675479537]         0.0  \n",
       "9  [0.8988755432452047, 0.10112445675479537]         0.0  "
      ]
     },
     "execution_count": 44,
     "metadata": {},
     "output_type": "execute_result"
    }
   ],
   "source": [
    "y_pred_train.select(['label',\n",
    " 'rawPrediction',\n",
    " 'probability',\n",
    " 'prediction']).toPandas().head(10)"
   ]
  },
  {
   "cell_type": "code",
   "execution_count": 45,
   "metadata": {},
   "outputs": [],
   "source": [
    "from pyspark.ml.evaluation import BinaryClassificationEvaluator"
   ]
  },
  {
   "cell_type": "code",
   "execution_count": 46,
   "metadata": {},
   "outputs": [],
   "source": [
    "evaluator = BinaryClassificationEvaluator()"
   ]
  },
  {
   "cell_type": "code",
   "execution_count": 47,
   "metadata": {},
   "outputs": [
    {
     "data": {
      "text/plain": [
       "0.5018113246728146"
      ]
     },
     "execution_count": 47,
     "metadata": {},
     "output_type": "execute_result"
    }
   ],
   "source": [
    "evaluator.evaluate(y_pred_test)"
   ]
  },
  {
   "cell_type": "markdown",
   "metadata": {},
   "source": [
    "### Accuarcy"
   ]
  },
  {
   "cell_type": "code",
   "execution_count": 48,
   "metadata": {},
   "outputs": [
    {
     "data": {
      "text/plain": [
       "0.9016284345853289"
      ]
     },
     "execution_count": 48,
     "metadata": {},
     "output_type": "execute_result"
    }
   ],
   "source": [
    "y_pred_test.filter(y_pred_test.label == y_pred_test.prediction).count() / float(y_pred_test.count())"
   ]
  },
  {
   "cell_type": "markdown",
   "metadata": {},
   "source": [
    "# Random Forest Regression"
   ]
  },
  {
   "cell_type": "code",
   "execution_count": 49,
   "metadata": {},
   "outputs": [],
   "source": [
    "rfm = RandomForestClassifier(featuresCol=\"features\",\n",
    "                              labelCol=\"label\",\n",
    "                              numTrees=50,\n",
    "                              maxDepth=5,\n",
    "                              featureSubsetStrategy='onethird')\n",
    "rfm = rfm.fit(train_df)"
   ]
  },
  {
   "cell_type": "code",
   "execution_count": 50,
   "metadata": {},
   "outputs": [
    {
     "name": "stdout",
     "output_type": "stream",
     "text": [
      "+--------------------+--------+-----+--------------------+--------------------+----------+\n",
      "|            features|emp_left|label|       rawPrediction|         probability|prediction|\n",
      "+--------------------+--------+-----+--------------------+--------------------+----------+\n",
      "|(5,[0,1],[40000.0...|       0|    0|[44.9847427845892...|[0.89969485569178...|       0.0|\n",
      "|(5,[0,1],[40000.0...|       0|    0|[44.9744547346177...|[0.89948909469235...|       0.0|\n",
      "|(5,[0,1],[40000.0...|       0|    0|[44.9780217683243...|[0.89956043536648...|       0.0|\n",
      "|(5,[0,1],[40000.0...|       0|    0|[44.9715802504721...|[0.89943160500944...|       0.0|\n",
      "|(5,[0,1],[40000.0...|       0|    0|[44.9715802504721...|[0.89943160500944...|       0.0|\n",
      "|(5,[0,1],[40000.0...|       0|    0|[44.9715802504721...|[0.89943160500944...|       0.0|\n",
      "|(5,[0,1],[40000.0...|       0|    0|[44.9715802504721...|[0.89943160500944...|       0.0|\n",
      "|(5,[0,1],[40000.0...|       0|    0|[44.9715802504721...|[0.89943160500944...|       0.0|\n",
      "|(5,[0,1],[40000.0...|       0|    0|[44.9715802504721...|[0.89943160500944...|       0.0|\n",
      "|(5,[0,1],[40000.0...|       1|    1|[44.9715802504721...|[0.89943160500944...|       0.0|\n",
      "+--------------------+--------+-----+--------------------+--------------------+----------+\n",
      "only showing top 10 rows\n",
      "\n"
     ]
    }
   ],
   "source": [
    "pred = rfm.transform(test_df)\n",
    "pred.show(10)"
   ]
  },
  {
   "cell_type": "code",
   "execution_count": 51,
   "metadata": {},
   "outputs": [],
   "source": [
    "def train(train, test, classifier):\n",
    "    # (train, test) = df.randomSplit([.7,.3])\n",
    "    print(classifier)\n",
    "    model = classifier.fit(train)\n",
    "\n",
    "    pred = model.transform(test)\n",
    "\n",
    "    eval_accuracy = (MulticlassClassificationEvaluator\n",
    "        (labelCol=\"label\", predictionCol=\"prediction\", metricName=\"accuracy\"))\n",
    "\n",
    "    eval_precision = (MulticlassClassificationEvaluator\n",
    "        (labelCol=\"label\", predictionCol=\"prediction\", metricName=\"weightedPrecision\"))\n",
    "\n",
    "    eval_recall = (MulticlassClassificationEvaluator\n",
    "        (labelCol=\"label\", predictionCol=\"prediction\", metricName=\"weightedRecall\"))\n",
    "\n",
    "    eval_f1 = (MulticlassClassificationEvaluator\n",
    "        (labelCol=\"label\", predictionCol=\"prediction\", metricName=\"f1\"))\n",
    "\n",
    "    accuracy = eval_accuracy.evaluate(pred)\n",
    "\n",
    "    precision =  eval_precision.evaluate(pred)\n",
    "\n",
    "    recall =  eval_recall.evaluate(pred)\n",
    "\n",
    "    f1 =  eval_f1.evaluate(pred)\n",
    "\n",
    "    print(f\"\"\"\n",
    "    Accuracy  = {accuracy}\n",
    "    Error     = {1-accuracy}\n",
    "    Precision = {precision}\n",
    "    Recall    = {recall}\n",
    "    F1        = {f1}\"\"\")\n",
    "\n",
    "    return model, pred"
   ]
  },
  {
   "cell_type": "code",
   "execution_count": 52,
   "metadata": {},
   "outputs": [],
   "source": [
    "rfm2 = RandomForestClassifier(featuresCol=\"features\",\n",
    "                              labelCol=\"label\",\n",
    "                              numTrees=50,\n",
    "                              maxDepth=5,\n",
    "                              featureSubsetStrategy='onethird')"
   ]
  },
  {
   "cell_type": "code",
   "execution_count": 53,
   "metadata": {},
   "outputs": [
    {
     "name": "stdout",
     "output_type": "stream",
     "text": [
      "RandomForestClassifier_6da4b30f2f21\n",
      "\n",
      "    Accuracy  = 0.9016284345853289\n",
      "    Error     = 0.09837156541467107\n",
      "    Precision = 0.8129338340527907\n",
      "    Recall    = 0.9016284345853289\n",
      "    F1        = 0.8549870408622282\n",
      "+----------+-----+--------------------+\n",
      "|prediction|label|            features|\n",
      "+----------+-----+--------------------+\n",
      "|       0.0|    0|(5,[0,1],[40000.0...|\n",
      "|       0.0|    0|(5,[0,1],[40000.0...|\n",
      "|       0.0|    0|(5,[0,1],[40000.0...|\n",
      "|       0.0|    0|(5,[0,1],[40000.0...|\n",
      "|       0.0|    0|(5,[0,1],[40000.0...|\n",
      "|       0.0|    0|(5,[0,1],[40000.0...|\n",
      "|       0.0|    0|(5,[0,1],[40000.0...|\n",
      "|       0.0|    0|(5,[0,1],[40000.0...|\n",
      "|       0.0|    0|(5,[0,1],[40000.0...|\n",
      "|       0.0|    1|(5,[0,1],[40000.0...|\n",
      "+----------+-----+--------------------+\n",
      "only showing top 10 rows\n",
      "\n"
     ]
    }
   ],
   "source": [
    "_ , pred2 = train(train_df, test_df, rfm2)\n",
    "\n",
    "pred2.select(\"prediction\", \"label\", \"features\").show(10)"
   ]
  },
  {
   "cell_type": "markdown",
   "metadata": {},
   "source": [
    "# Building Pipline\n",
    "### Preparing Data"
   ]
  },
  {
   "cell_type": "code",
   "execution_count": 54,
   "metadata": {},
   "outputs": [],
   "source": [
    "employees = spark.sql(\"select * from employees\")\n",
    "titles = spark.sql(\"select * from titles\")\n",
    "salaries = spark.sql(\"select * from salaries\")\n",
    "department_employees = spark.sql(\"select * from department_employees\")\n",
    "department_manager = spark.sql(\"select * from department_manager\")\n",
    "departments = spark.sql(\"select * from departments\")\n",
    "df = employees.join(titles,employees.emp_titles_id == titles.title_id,\"rightouter\").join(department_employees,employees.emp_no == department_employees.emp_no,\"rightouter\").join(salaries,employees.emp_no == salaries.emp_no,\"rightouter\")\n",
    "df_final = df.select('dept_no','sex','salary','no_of_projects','emp_left','last_performance_rating')"
   ]
  },
  {
   "cell_type": "code",
   "execution_count": 55,
   "metadata": {},
   "outputs": [],
   "source": [
    "# String Indexer\n",
    "SI_dep_no = StringIndexer(inputCol='dept_no',outputCol='dept_no_index')\n",
    "SI_sex = StringIndexer(inputCol='sex',outputCol='sex_index')\n",
    "SI_last_performance_rating = StringIndexer(inputCol='last_performance_rating',outputCol='last_performance_rating_index')"
   ]
  },
  {
   "cell_type": "code",
   "execution_count": 56,
   "metadata": {},
   "outputs": [],
   "source": [
    "# Vector Assembler\n",
    "assembler = VectorAssembler(inputCols = [ 'salary', 'no_of_projects','dept_no_index',\n",
    "                                         'sex_index', 'last_performance_rating_index'],outputCol = \"features\")"
   ]
  },
  {
   "cell_type": "code",
   "execution_count": 57,
   "metadata": {},
   "outputs": [],
   "source": [
    "\n",
    "\n",
    "# ML Model\n",
    "rfm = RandomForestClassifier(featuresCol=\"features\",\n",
    "                              labelCol=\"label\",\n",
    "                              numTrees=50,\n",
    "                              maxDepth=5,\n",
    "                              featureSubsetStrategy='onethird')\n",
    "\n",
    "# Creating Pipeline\n",
    "pipeline = Pipeline(stages= [SI_sex, SI_last_performance_rating, SI_dep_no, assembler, rfm])\n",
    "\n",
    "# setting label column\n",
    "df_final = df_final.withColumnRenamed('emp_left','label')"
   ]
  },
  {
   "cell_type": "markdown",
   "metadata": {},
   "source": [
    "# Train Test Split"
   ]
  },
  {
   "cell_type": "code",
   "execution_count": 58,
   "metadata": {},
   "outputs": [],
   "source": [
    "train, test = df_final.randomSplit([0.7, 0.3], seed = 42)"
   ]
  },
  {
   "cell_type": "markdown",
   "metadata": {},
   "source": [
    "# Model Fitting"
   ]
  },
  {
   "cell_type": "code",
   "execution_count": 59,
   "metadata": {},
   "outputs": [
    {
     "name": "stdout",
     "output_type": "stream",
     "text": [
      "+-----+--------------------+----------+\n",
      "|label|            features|prediction|\n",
      "+-----+--------------------+----------+\n",
      "|    0|[40000.0,3.0,5.0,...|       0.0|\n",
      "|    0|[40000.0,5.0,5.0,...|       0.0|\n",
      "|    0|[40000.0,6.0,5.0,...|       0.0|\n",
      "|    0|[51070.0,3.0,5.0,...|       0.0|\n",
      "|    0|[51725.0,6.0,5.0,...|       0.0|\n",
      "|    0|[62716.0,3.0,5.0,...|       0.0|\n",
      "|    0|[68855.0,1.0,5.0,...|       0.0|\n",
      "|    0|[69834.0,2.0,5.0,...|       0.0|\n",
      "|    0|[77823.0,3.0,5.0,...|       0.0|\n",
      "|    0|[78460.0,6.0,5.0,...|       0.0|\n",
      "+-----+--------------------+----------+\n",
      "only showing top 10 rows\n",
      "\n"
     ]
    }
   ],
   "source": [
    "model = pipeline.fit(train)\n",
    "y_pred_test = model.transform(test)\n",
    "y_pred_test.select('label', 'features','prediction').show(10)"
   ]
  }
 ],
 "metadata": {
  "kernelspec": {
   "display_name": "Python 3",
   "language": "python",
   "name": "python3"
  },
  "language_info": {
   "codemirror_mode": {
    "name": "ipython",
    "version": 3
   },
   "file_extension": ".py",
   "mimetype": "text/x-python",
   "name": "python",
   "nbconvert_exporter": "python",
   "pygments_lexer": "ipython3",
   "version": "3.7.6"
  }
 },
 "nbformat": 4,
 "nbformat_minor": 4
}
